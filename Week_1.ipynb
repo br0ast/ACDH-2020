{
  "nbformat": 4,
  "nbformat_minor": 0,
  "metadata": {
    "colab": {
      "provenance": [],
      "include_colab_link": true
    },
    "kernelspec": {
      "name": "python3",
      "display_name": "Python 3"
    },
    "language_info": {
      "name": "python"
    }
  },
  "cells": [
    {
      "cell_type": "markdown",
      "metadata": {
        "id": "view-in-github",
        "colab_type": "text"
      },
      "source": [
        "<a href=\"https://colab.research.google.com/github/br0ast/ACDH-2020/blob/master/Week_1.ipynb\" target=\"_parent\"><img src=\"https://colab.research.google.com/assets/colab-badge.svg\" alt=\"Open In Colab\"/></a>"
      ]
    },
    {
      "cell_type": "markdown",
      "source": [
        "# Week 1 - Python Recap"
      ],
      "metadata": {
        "id": "jynky4D5stHd"
      }
    },
    {
      "cell_type": "markdown",
      "source": [
        "In this small Jupyter Notebook, we will revise the basics of Python. If you want to get more materials, you can access the Introduction to Programming for Humanists [GitHub Repository](https://github.com/Introduction-to-Programming-FH/IPFH2425), with a whole course about Python. There are plenty of resources for Python, including the [w3school resource with interactive exercises](https://www.w3schools.com/python/)!"
      ],
      "metadata": {
        "id": "foIowwmzsvNT"
      }
    },
    {
      "cell_type": "markdown",
      "source": [
        "This is Jupyter Notebook, a framework where you can write Python (and other PL) code and text. This is a block of text, it is encoded in Markdown. More on markdown in this [Markdown guide](https://www.markdownguide.org/basic-syntax/)"
      ],
      "metadata": {
        "id": "Nn1jEbSWtHpW"
      }
    },
    {
      "cell_type": "code",
      "source": [
        "# This is a block of code in Python - with a comment!\n",
        "# Comments are not run"
      ],
      "metadata": {
        "id": "n4eaIZNAtHHu"
      },
      "execution_count": 3,
      "outputs": []
    },
    {
      "cell_type": "code",
      "source": [
        "a = 1 # this is the declaration of the variable a with the starting value  of 1\n",
        "# 1 is an integer in Python (integer=non decimal number)"
      ],
      "metadata": {
        "id": "3l97_FE0ta2h"
      },
      "execution_count": 2,
      "outputs": []
    },
    {
      "cell_type": "code",
      "source": [
        "# Other datatypes in python\n",
        "\n",
        "b = 3.14 # float: decimal number\n",
        "c = True # boolean, can be either True or False\n",
        "d = \"Hello\" # string: contains sets of characters enclosed by \"quotation marks\""
      ],
      "metadata": {
        "id": "XaMgShjVtvPW"
      },
      "execution_count": null,
      "outputs": []
    },
    {
      "cell_type": "code",
      "source": [
        "# Operations and change of value\n",
        "\n",
        "a = float(a) # you can change the variable datatypes\n",
        "print(a) # print is used to display the output of something in the console"
      ],
      "metadata": {
        "colab": {
          "base_uri": "https://localhost:8080/"
        },
        "id": "rSMXpDK2t9MJ",
        "outputId": "8ee7ee2f-1c67-4c96-e64a-c173bd3e2276"
      },
      "execution_count": null,
      "outputs": [
        {
          "output_type": "stream",
          "name": "stdout",
          "text": [
            "1.0\n"
          ]
        }
      ]
    },
    {
      "cell_type": "code",
      "source": [
        "a = str(a)\n",
        "print(a)"
      ],
      "metadata": {
        "colab": {
          "base_uri": "https://localhost:8080/"
        },
        "id": "1AxJw9RDuBQp",
        "outputId": "7a195311-be59-49cb-d46a-e679248fea41"
      },
      "execution_count": null,
      "outputs": [
        {
          "output_type": "stream",
          "name": "stdout",
          "text": [
            "1.0\n"
          ]
        }
      ]
    },
    {
      "cell_type": "code",
      "source": [
        "a = bool(a) # 1 and 0 can be converted in True (1) and False (0)"
      ],
      "metadata": {
        "id": "IOHMuy7PuKRc"
      },
      "execution_count": 4,
      "outputs": []
    },
    {
      "cell_type": "code",
      "source": [
        "print(a)"
      ],
      "metadata": {
        "colab": {
          "base_uri": "https://localhost:8080/"
        },
        "id": "UUqu04RJuOfl",
        "outputId": "cf0458a7-7473-4d5e-8934-e70112bf67b9"
      },
      "execution_count": 6,
      "outputs": [
        {
          "output_type": "stream",
          "name": "stdout",
          "text": [
            "True\n"
          ]
        }
      ]
    },
    {
      "cell_type": "code",
      "source": [
        "n1 = 10\n",
        "n2 = 4\n",
        "\n",
        "print(n1*n2) # multiplication\n",
        "print(n1+n2) # addition\n",
        "print(n1-n2) # subtraction\n",
        "print(n1/n2) # division\n",
        "print(n1//n2) # integer division\n",
        "print(n1%n2) # modulo\n",
        "print(n1**n2) # exponentiation"
      ],
      "metadata": {
        "colab": {
          "base_uri": "https://localhost:8080/"
        },
        "id": "Z0ull4nSuPSE",
        "outputId": "35d1ab73-2ce2-4d69-ed8b-faf7af65fd6f"
      },
      "execution_count": 10,
      "outputs": [
        {
          "output_type": "stream",
          "name": "stdout",
          "text": [
            "40\n",
            "14\n",
            "6\n",
            "2.5\n",
            "2\n",
            "2\n",
            "10000\n"
          ]
        }
      ]
    },
    {
      "cell_type": "code",
      "source": [
        "from math import sqrt # you can import additional functions in python"
      ],
      "metadata": {
        "id": "MbVnFADXufaM"
      },
      "execution_count": 8,
      "outputs": []
    },
    {
      "cell_type": "code",
      "source": [
        "print(sqrt(n2)) #sqrt is a function in the math module to perform squared root"
      ],
      "metadata": {
        "colab": {
          "base_uri": "https://localhost:8080/"
        },
        "id": "1gclUZgFutK3",
        "outputId": "e8a30cc0-c36c-47b0-e28c-ca005d3c6b10"
      },
      "execution_count": 11,
      "outputs": [
        {
          "output_type": "stream",
          "name": "stdout",
          "text": [
            "2.0\n"
          ]
        }
      ]
    },
    {
      "cell_type": "code",
      "source": [
        "# Strings are immutable sequences of characters enclosed in \"\"\n",
        "\n",
        "this_is_a_string = \"Hello, world!\"\n",
        "\n",
        "# You can do many strings operations, remembering that strings are immutable\n",
        "# so their must be reinstantiated to save the changes\n",
        "\n",
        "print(this_is_a_string.upper())\n",
        "print(this_is_a_string)"
      ],
      "metadata": {
        "colab": {
          "base_uri": "https://localhost:8080/"
        },
        "id": "aCKBqAflD9na",
        "outputId": "2aa35f7f-da00-4bcc-bca2-2cded17b7706"
      },
      "execution_count": 12,
      "outputs": [
        {
          "output_type": "stream",
          "name": "stdout",
          "text": [
            "HELLO, WORLD!\n",
            "Hello, world!\n"
          ]
        }
      ]
    },
    {
      "cell_type": "code",
      "source": [
        "this_is_a_string = this_is_a_string.upper()\n",
        "print(this_is_a_string)\n",
        "print(this_is_a_string.split(\" \")) # you can split strings into lists\n",
        "print(\"_\".join(this_is_a_string.split(\" \"))) # and join lists into strings"
      ],
      "metadata": {
        "colab": {
          "base_uri": "https://localhost:8080/"
        },
        "id": "128rHryaEPsw",
        "outputId": "e6dbcfb5-66cb-416a-825b-97716f76a668"
      },
      "execution_count": 13,
      "outputs": [
        {
          "output_type": "stream",
          "name": "stdout",
          "text": [
            "HELLO, WORLD!\n",
            "['HELLO,', 'WORLD!']\n",
            "HELLO,_WORLD!\n"
          ]
        }
      ]
    },
    {
      "cell_type": "code",
      "source": [
        "# In python, you can store data in different types of containers, also called\n",
        "# Data structures\n",
        "\n",
        "ds1 = [\"this\", \"is\", 1, \"list\", \"and\", \"it can\", \"contain\",\n",
        "       [\"nested\", \"lists\", \"inside\"],\n",
        "       \"and other types\", \"of datatypes such as\" ,1, 2.3, True]\n",
        "\n",
        "print(ds1[8]) # you can access elements in lists with the list index\n",
        "print(ds1[7][1]) # and also nested elements\n",
        "\n",
        "# lists are mutable you can add and remove elements from them\n",
        "\n",
        "ds1.append(\"and so much more\")\n",
        "ds1.remove(\"this\")"
      ],
      "metadata": {
        "colab": {
          "base_uri": "https://localhost:8080/"
        },
        "id": "-B21UnMbu0ue",
        "outputId": "de79e500-e7cf-4abb-b02f-dc998334ad9c"
      },
      "execution_count": 14,
      "outputs": [
        {
          "output_type": "stream",
          "name": "stdout",
          "text": [
            "and other types\n",
            "lists\n"
          ]
        }
      ]
    },
    {
      "cell_type": "code",
      "source": [
        "# Sets are unordered sequence of elements and contain only unique\n",
        "# elements\n",
        "\n",
        "my_set = {1,2,3,4,4,4,4,4} #the duplicate elements will be eliminated\n",
        "print(my_set)\n",
        "\n",
        "# You can add and remove elements with sets and perform sets operations\n",
        "\n",
        "my_set2 = {4,5}\n",
        "\n",
        "print(my_set.union(my_set2))"
      ],
      "metadata": {
        "colab": {
          "base_uri": "https://localhost:8080/"
        },
        "id": "o88rpFOUAvGl",
        "outputId": "72a87f34-d083-4006-f74e-1fc0a2d05347"
      },
      "execution_count": 15,
      "outputs": [
        {
          "output_type": "stream",
          "name": "stdout",
          "text": [
            "{1, 2, 3, 4}\n",
            "{1, 2, 3, 4, 5}\n"
          ]
        }
      ]
    },
    {
      "cell_type": "code",
      "source": [
        "# Tuples are immutable ordered sequences of elements. Because they are\n",
        "# immutable you cannot remove or add elements from them without recreating the\n",
        "# tuple\n",
        "\n",
        "my_tuple = (2,3,4)\n",
        "my_tuple = (3,4,5) # I am rewriting the variable that contains the tuple\n",
        "my_tuple[0] # you can access tuples element via the indexing"
      ],
      "metadata": {
        "id": "_2X62rfFBFbZ"
      },
      "execution_count": null,
      "outputs": []
    },
    {
      "cell_type": "code",
      "source": [
        "# Dictionaries are \"Unordered\" (in the sense that you cannot access elements\n",
        "# with indexes, but they are actually alphabetically ordered from Python 3.8.\n",
        "# sequences of key-value pairs, and they are mutable\n",
        "\n",
        "a_dictionary= {\"this(key)\":\"dictionary(value)\", \"contains\":[\"a list\"], \"and\":\n",
        "               {\"another\":\"dictionary\"}, \"in\":\"it\", \"and_numbers\":1}"
      ],
      "metadata": {
        "id": "2AiA0_8sBXjO"
      },
      "execution_count": 16,
      "outputs": []
    },
    {
      "cell_type": "code",
      "source": [
        "a_dictionary['contains']"
      ],
      "metadata": {
        "id": "Y5-X_gX9woOM",
        "outputId": "aa242d2e-69f4-4f84-f671-fba2c5c6b0ac",
        "colab": {
          "base_uri": "https://localhost:8080/"
        }
      },
      "execution_count": 17,
      "outputs": [
        {
          "output_type": "execute_result",
          "data": {
            "text/plain": [
              "['a list']"
            ]
          },
          "metadata": {},
          "execution_count": 17
        }
      ]
    },
    {
      "cell_type": "code",
      "source": [
        "# You can iterate over elements of sequences with the for loop\n",
        "\n",
        "my_list = [\"x\", \"D\"]\n",
        "for element in my_list:\n",
        "    print(element)"
      ],
      "metadata": {
        "colab": {
          "base_uri": "https://localhost:8080/"
        },
        "id": "LZtyvh2YBxwO",
        "outputId": "84ce5e72-1dd8-4030-9901-89953e5e808f"
      },
      "execution_count": 18,
      "outputs": [
        {
          "output_type": "stream",
          "name": "stdout",
          "text": [
            "x\n",
            "D\n"
          ]
        }
      ]
    },
    {
      "cell_type": "code",
      "source": [
        "# Conditions, you can execute code based on some conditions,\n",
        "# the syntax is usually \"if <block of conditions that results in a boolean>:\n",
        "#\"do something\"\n",
        "# else:\n",
        "#\"do something else\"\n",
        "\n",
        "a = True\n",
        "b = False\n",
        "\n",
        "if a or b:\n",
        "    print(\"hello\")\n",
        "else:\n",
        "    print(\"bye\")"
      ],
      "metadata": {
        "colab": {
          "base_uri": "https://localhost:8080/"
        },
        "id": "2RnrO46NB-ok",
        "outputId": "2aec69a4-3d98-4586-e820-91e526d8f93f"
      },
      "execution_count": 19,
      "outputs": [
        {
          "output_type": "stream",
          "name": "stdout",
          "text": [
            "hello\n"
          ]
        }
      ]
    },
    {
      "cell_type": "code",
      "source": [
        "if a and b:\n",
        "    print(\"hello\")\n",
        "else:\n",
        "    print(\"bye\")"
      ],
      "metadata": {
        "colab": {
          "base_uri": "https://localhost:8080/"
        },
        "id": "nc4chDXwCOKH",
        "outputId": "cee13860-8582-43d5-c508-32f5b4db550c"
      },
      "execution_count": 20,
      "outputs": [
        {
          "output_type": "stream",
          "name": "stdout",
          "text": [
            "bye\n"
          ]
        }
      ]
    },
    {
      "cell_type": "code",
      "source": [
        "if a and b:\n",
        "    print(\"hello\")\n",
        "elif b is True:\n",
        "    print(\"bye\")\n",
        "else:\n",
        "    print(\"goodbye\")"
      ],
      "metadata": {
        "colab": {
          "base_uri": "https://localhost:8080/"
        },
        "id": "4ex3ch5NCRj6",
        "outputId": "12fecbc2-4e26-4927-b5a0-977ccde4c51a"
      },
      "execution_count": null,
      "outputs": [
        {
          "output_type": "stream",
          "name": "stdout",
          "text": [
            "goodbye\n"
          ]
        }
      ]
    },
    {
      "cell_type": "code",
      "source": [
        "# Functions are reusable blocks of code that you can call as many times as you\n",
        "# want with different (compatible) inputs to get some output\n",
        "\n",
        "def division_list(list_of_numbers, starting_integer):\n",
        "    for numb in list_of_numbers:\n",
        "        starting_integer /= numb # this is a shortcut for saying\n",
        "        # starting_integer = starting_integer/numb\n",
        "    return starting_integer\n",
        "\n",
        "# you can call a previously defined function with the function name and\n",
        "# adequate parameters, if you give the functions some parameters that it does\n",
        "# not expect, you might raise an error.\n",
        "# Documenting functions is important to guide other people not to use your code\n",
        "# incorrectly\n",
        "\n",
        "division_list([2,4,5], 199233)"
      ],
      "metadata": {
        "colab": {
          "base_uri": "https://localhost:8080/"
        },
        "id": "pZomlxX2Ca3q",
        "outputId": "97a3d9bb-a901-48d7-a3bd-8d9f9f22f7ac"
      },
      "execution_count": 21,
      "outputs": [
        {
          "output_type": "execute_result",
          "data": {
            "text/plain": [
              "4980.825"
            ]
          },
          "metadata": {},
          "execution_count": 21
        }
      ]
    },
    {
      "cell_type": "code",
      "source": [],
      "metadata": {
        "id": "O4_NRurPDQuu"
      },
      "execution_count": null,
      "outputs": []
    },
    {
      "cell_type": "code",
      "source": [
        "division_list([2,3,6], \"apple\")"
      ],
      "metadata": {
        "colab": {
          "base_uri": "https://localhost:8080/",
          "height": 263
        },
        "id": "295Ie7yPDCez",
        "outputId": "0d68adc6-910f-478b-d02e-763db0693292"
      },
      "execution_count": null,
      "outputs": [
        {
          "output_type": "error",
          "ename": "TypeError",
          "evalue": "unsupported operand type(s) for /=: 'str' and 'int'",
          "traceback": [
            "\u001b[0;31m---------------------------------------------------------------------------\u001b[0m",
            "\u001b[0;31mTypeError\u001b[0m                                 Traceback (most recent call last)",
            "\u001b[0;32m<ipython-input-26-a2abb3e90c42>\u001b[0m in \u001b[0;36m<cell line: 0>\u001b[0;34m()\u001b[0m\n\u001b[0;32m----> 1\u001b[0;31m \u001b[0mdivision_list\u001b[0m\u001b[0;34m(\u001b[0m\u001b[0;34m[\u001b[0m\u001b[0;36m2\u001b[0m\u001b[0;34m,\u001b[0m\u001b[0;36m3\u001b[0m\u001b[0;34m,\u001b[0m\u001b[0;36m6\u001b[0m\u001b[0;34m]\u001b[0m\u001b[0;34m,\u001b[0m \u001b[0;34m\"apple\"\u001b[0m\u001b[0;34m)\u001b[0m\u001b[0;34m\u001b[0m\u001b[0;34m\u001b[0m\u001b[0m\n\u001b[0m",
            "\u001b[0;32m<ipython-input-24-aa0982bcf6d8>\u001b[0m in \u001b[0;36mdivision_list\u001b[0;34m(list_of_numbers, starting_integer)\u001b[0m\n\u001b[1;32m      4\u001b[0m \u001b[0;32mdef\u001b[0m \u001b[0mdivision_list\u001b[0m\u001b[0;34m(\u001b[0m\u001b[0mlist_of_numbers\u001b[0m\u001b[0;34m,\u001b[0m \u001b[0mstarting_integer\u001b[0m\u001b[0;34m)\u001b[0m\u001b[0;34m:\u001b[0m\u001b[0;34m\u001b[0m\u001b[0;34m\u001b[0m\u001b[0m\n\u001b[1;32m      5\u001b[0m     \u001b[0;32mfor\u001b[0m \u001b[0mnumb\u001b[0m \u001b[0;32min\u001b[0m \u001b[0mlist_of_numbers\u001b[0m\u001b[0;34m:\u001b[0m\u001b[0;34m\u001b[0m\u001b[0;34m\u001b[0m\u001b[0m\n\u001b[0;32m----> 6\u001b[0;31m         \u001b[0mstarting_integer\u001b[0m \u001b[0;34m/=\u001b[0m \u001b[0mnumb\u001b[0m\u001b[0;34m\u001b[0m\u001b[0;34m\u001b[0m\u001b[0m\n\u001b[0m\u001b[1;32m      7\u001b[0m     \u001b[0;32mreturn\u001b[0m \u001b[0mstarting_integer\u001b[0m\u001b[0;34m\u001b[0m\u001b[0;34m\u001b[0m\u001b[0m\n\u001b[1;32m      8\u001b[0m \u001b[0;34m\u001b[0m\u001b[0m\n",
            "\u001b[0;31mTypeError\u001b[0m: unsupported operand type(s) for /=: 'str' and 'int'"
          ]
        }
      ]
    },
    {
      "cell_type": "code",
      "source": [
        "# In python, you can read and write files\n",
        "import csv\n",
        "with open(\"newfile.csv\", \"w+\") as newfile:\n",
        "    newfilewriter = csv.writer(newfile)\n",
        "    newfilewriter.writerow([\"A\", \"B\", \"SUM OF A AND B\"])\n",
        "    newfilewriter.writerow([10, 15, 25])\n",
        "    newfilewriter.writerow([3, 15, 18])"
      ],
      "metadata": {
        "id": "P-DRXZ-7DTYp"
      },
      "execution_count": 22,
      "outputs": []
    },
    {
      "cell_type": "code",
      "source": [
        "with open(\"newfile.csv\", \"r\") as readingfile:\n",
        "    reader = csv.DictReader(readingfile)\n",
        "    for row in reader:\n",
        "        print(row[\"A\"])"
      ],
      "metadata": {
        "colab": {
          "base_uri": "https://localhost:8080/"
        },
        "id": "3aydBhRoDry-",
        "outputId": "640bfb8a-cbe7-48f3-c660-29fae3af4ebc"
      },
      "execution_count": 23,
      "outputs": [
        {
          "output_type": "stream",
          "name": "stdout",
          "text": [
            "10\n",
            "3\n"
          ]
        }
      ]
    },
    {
      "cell_type": "markdown",
      "source": [
        "# Class Exercise\n",
        "\n",
        "1. Text to tuples. Develop the function text_to_tuples which takes as an input a string and an integer that would look like this:\n",
        "\n",
        "\n",
        "\n",
        "```\n",
        "example_string=\"My life is better with programming\"\n",
        "example_integer=3\n",
        "```\n",
        "\n",
        "And returns a list of tuples. Each tuple contain X words from the string (separate words using the whitespace \" \").\n",
        "\n",
        "For instance, text_to_tuples(example_string, example_integer) would return\n",
        "```\n",
        "result = [(\"My\", \"life\", \"is\"), (\"better\",\"with\",\"programming\")]\n",
        "```\n",
        "If the sentence cannot be exactly divided by the integer, the last tuple will have less elements than the others.\n",
        "\n",
        "For instance, text_to_tuples(example_string, 4) would return\n",
        "\n",
        "\n",
        "```\n",
        "result = [(\"My\", \"life\", \"is\", \"better\"), (\"with, \"programming\")]\n",
        "```\n",
        "\n",
        "\n",
        "\n"
      ],
      "metadata": {
        "id": "dolgqB96-Dh-"
      }
    },
    {
      "cell_type": "code",
      "source": [],
      "metadata": {
        "id": "rJPuS5sFzyza"
      },
      "execution_count": null,
      "outputs": []
    },
    {
      "cell_type": "markdown",
      "source": [
        "# Howework exercise:\n",
        "\n",
        "1. A dictionary of operations. Develop a function dictionary_of_operations which takes as an input a dictionary with the structure similar to this:\n",
        "\n",
        "```\n",
        "example_dictionary = {\"numbers1\":[2,4,5.9,10], \"numbers2\":[12,9,10,11], \"operations\":[\"sum\", \"sub\", \"mult\", \"div\"]}\n",
        "```\n",
        "And produces a CSV with the columns number1, number2, operation, result. The csv will be compiled by the numbers in the lists and the results of their operations. Use the index of the list to determine which pairs of numbers are computed. Example: numbers1[0] will be computed with numbers2[0] with the operation operations[0] and so on so forth. The three lists in the dictionary must in fact have the same number of elements! The only available values for operations are: \"sum\", a normal sum, \"sub\", a subtraction, \"mult\", a moltiplication, and \"div\", a normal (non-integer) division.\n",
        "\n"
      ],
      "metadata": {
        "id": "Tn4Wl4GC8ypF"
      }
    },
    {
      "cell_type": "code",
      "source": [],
      "metadata": {
        "id": "OLwiKRIq0RQY"
      },
      "execution_count": null,
      "outputs": []
    }
  ]
}