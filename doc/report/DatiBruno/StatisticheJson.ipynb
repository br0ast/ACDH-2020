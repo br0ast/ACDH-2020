{
  "nbformat": 4,
  "nbformat_minor": 0,
  "metadata": {
    "colab": {
      "name": "StatisticheJson",
      "provenance": []
    },
    "kernelspec": {
      "name": "python3",
      "display_name": "Python 3"
    }
  },
  "cells": [
    {
      "cell_type": "code",
      "metadata": {
        "id": "JtEKSugNOJnd",
        "colab_type": "code",
        "colab": {
          "base_uri": "https://localhost:8080/",
          "height": 70
        },
        "outputId": "6ac12f1b-c879-4c17-a5ab-f02e0bf15f5f"
      },
      "source": [
        "import json\n",
        "a = 0\n",
        "with open (\"courses.json\") as jsonfile:\n",
        "  data = json.load(jsonfile)\n",
        "  objects = dict()\n",
        "  techniques = dict()\n",
        "\n",
        "  for row in data:\n",
        "    if row['tadirah_objects']:\n",
        "      for dicto in row['tadirah_objects']:\n",
        "        if objects.get(dicto['name']):\n",
        "          objects[dicto['name']] +=1\n",
        "        else:\n",
        "          objects[dicto['name']] = 1\n",
        "      for dicto2 in row['tadirah_techniques']:\n",
        "        if techniques.get(dicto2['name']):\n",
        "          techniques[dicto2['name']] +=1\n",
        "        else:\n",
        "          techniques[dicto2['name']] = 1\n",
        "\n",
        "print(sorted(objects.items(), key=lambda x: x[1], reverse=True))\n",
        "print(sorted(techniques.items(), key=lambda x: x[1], reverse=True))\n"
      ],
      "execution_count": 11,
      "outputs": [
        {
          "output_type": "stream",
          "text": [
            "[('DigitalHumanities', 194), ('Data', 167), ('Text', 164), ('Metadata', 116), ('Research', 112), ('Tools', 107), ('Visualization', 107), ('Computers', 104), ('Language', 102), ('Images', 100), ('Literature', 92), ('Multimedia', 84), ('Software', 75), ('Manuscript', 69), ('Map', 69), ('Projects', 68), ('Artifacts', 66), ('File', 63), ('Standards', 60), ('ResearchProcess', 59), ('Video', 53), ('Images(3D)', 51), ('Infrastructure', 44), ('Multimodal', 43), ('Persons', 43), ('NamedEntities', 40), ('Interaction', 39), ('BibliographicListings', 38), ('ResearchResults', 38), ('Sound', 33), ('Speech', 32), ('Link', 30), ('Curricula', 23), ('TextBearingObjects', 19), ('VREs', 16), ('SheetMusic', 11)]\n",
            "[('Information Retrieval', 135), ('Encoding', 121), ('Text Mining', 112), ('Linked Open Data', 97), ('Searching', 96), ('Mapping', 81), ('Georeferencing ', 80), ('Preservation Metadata ', 69), ('Scanning', 69), ('Topic Modeling', 65), ('Named Entity Recognition ', 56), ('Machine Learning', 55), ('Browsing', 55), ('POS-Tagging', 52), ('Concordancing ', 48), ('Brainstorming', 47), ('Pattern Recognition', 46), ('Cluster Analysis ', 46), ('Collocation Analysis ', 45), ('Open Archival Information Systems', 42), ('Photography', 37), ('Versioning', 35), ('Gamification', 34), ('Web Crawling ', 33), ('Commenting', 29), ('Distance Measures', 29), ('Sentiment Analysis ', 28), ('Technology Preservation', 26), ('Durable Persistent Media ', 20), ('Debugging', 18), ('Principal Component Analysis', 17), ('Sequence Alignment', 12), ('Emulation ', 10), ('Replication ', 9), ('Bit Stream Preservation ', 8), ('Migration ', 8)]\n"
          ],
          "name": "stdout"
        }
      ]
    },
    {
      "cell_type": "code",
      "metadata": {
        "id": "D3k--RpxPRwN",
        "colab_type": "code",
        "colab": {}
      },
      "source": [
        "import csv\n",
        "already = list()\n",
        "with open('base2.csv', 'w+', encoding='UTF-8') as csvfile:\n",
        "  writer = csv.writer(csvfile, delimiter=\"\\t\")\n",
        "  writer.writerow(['name','technique'])\n",
        "  for row in data:\n",
        "    if row['name'] in already:\n",
        "      name = row['name'] + \"1\"\n",
        "      already.append(name)\n",
        "    else:\n",
        "      name = row['name']\n",
        "      already.append(name)\n",
        "    for technique in row['tadirah_techniques']:\n",
        "      writer.writerow([name, technique['name']])\n",
        "\n",
        "  "
      ],
      "execution_count": 0,
      "outputs": []
    },
    {
      "cell_type": "code",
      "metadata": {
        "id": "BusGnsrtVXkx",
        "colab_type": "code",
        "colab": {}
      },
      "source": [
        ""
      ],
      "execution_count": 0,
      "outputs": []
    }
  ]
}