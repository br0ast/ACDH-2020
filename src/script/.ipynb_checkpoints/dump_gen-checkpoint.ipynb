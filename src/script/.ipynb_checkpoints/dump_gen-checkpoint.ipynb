{
 "cells": [
  {
   "cell_type": "code",
   "execution_count": 7,
   "metadata": {},
   "outputs": [],
   "source": [
    "import csv"
   ]
  },
  {
   "cell_type": "code",
   "execution_count": 8,
   "metadata": {},
   "outputs": [],
   "source": [
    "CSV_BASE_DUMP = \"../data/acdh_ch.csv\""
   ]
  },
  {
   "cell_type": "code",
   "execution_count": 9,
   "metadata": {},
   "outputs": [
    {
     "name": "stdout",
     "output_type": "stream",
     "text": [
      "Team\n",
      "Ave Maria University\n",
      "Barry University\n",
      "Bethune-Cookman College\n",
      "Broward College\n",
      "Eckerd College\n",
      "Embry-Riddle\n",
      "Flagler College\n",
      "Florida Atlantic University (FAU)\n",
      "Florida Gulf Coast University\n",
      "Florida Agricultural and Mechanical University (FAMU)\n",
      "Florida Institute of Technology (Florida Tech)\n",
      "Florida International University (FIU)\n",
      "Florida Southern College\n",
      "Florida State College at Jacksonville\n",
      "Florida State University (FSU)\n",
      "Hillsborough Community College\n",
      "Lynn University\n",
      "Keiser University\n",
      "Nova Southeastern University\n",
      "Palm Beach Atlantic\n",
      "Rollins College\n",
      "Saint Petersburg College\n",
      "Saint Leo University\n",
      "Saint Thomas University\n",
      "Southeastern University\n",
      "State College of Florida\n",
      "Stetson University\n",
      "University of Central Florida\n",
      "University of Florida\n",
      "University of Miami\n",
      "University of North Florida\n",
      "Universith of South Florida\n",
      "University of Tampa\n",
      "University of West Florida\n",
      "Warner University\n",
      "Webber International University\n"
     ]
    }
   ],
   "source": [
    "# Call the Digital Humanities Course Registry - Data API https://app.swaggerhub.com/apis-docs/hashmich/DHCR-API/1.1\n",
    "# We will get all the data needed\n",
    "items = []\n",
    "with open(CSV_BASE_DUMP) as a_file:\n",
    "    csv_reader = csv.reader(a_file, delimiter=',')\n",
    "    line_count = 0\n",
    "    for row in csv_reader:\n",
    "        print(row[0])\n",
    "        r = requests.get('https://opencitations.net/index/coci/api/v1/metadata/'+str(doi))\n",
    "        break"
   ]
  },
  {
   "cell_type": "code",
   "execution_count": null,
   "metadata": {},
   "outputs": [],
   "source": [
    "        #regex = r\"(10\\..*)$\"\n",
    "\n",
    "        test_str = row[4]\n",
    "\n",
    "        matches = re.finditer(regex, test_str, re.MULTILINE)\n",
    "\n",
    "        for matchNum, match in enumerate(matches, start=1):\n",
    "            if match:\n",
    "                doi = match.group()\n",
    "                r = requests.get('https://opencitations.net/index/coci/api/v1/metadata/'+str(doi))\n",
    "                if len(r.json()) > 0:                \n",
    "                    items.append(r.json()[0])"
   ]
  }
 ],
 "metadata": {
  "kernelspec": {
   "display_name": "Python 3",
   "language": "python",
   "name": "python3"
  },
  "language_info": {
   "codemirror_mode": {
    "name": "ipython",
    "version": 3
   },
   "file_extension": ".py",
   "mimetype": "text/x-python",
   "name": "python",
   "nbconvert_exporter": "python",
   "pygments_lexer": "ipython3",
   "version": "3.7.3"
  }
 },
 "nbformat": 4,
 "nbformat_minor": 2
}
