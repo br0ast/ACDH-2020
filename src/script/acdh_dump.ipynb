{
 "cells": [
  {
   "cell_type": "code",
   "execution_count": 26,
   "metadata": {},
   "outputs": [],
   "source": [
    "import csv\n",
    "import json\n",
    "import requests\n",
    "import pandas as pd"
   ]
  },
  {
   "cell_type": "code",
   "execution_count": 24,
   "metadata": {},
   "outputs": [],
   "source": [
    "API_SERVER = \"https://dhcr.clarin-dariah.eu/api/v1\"\n",
    "API_CALLS = [\n",
    "    \"/courses/index\",\n",
    "    \"/countries/index\",\n",
    "    \"/cities/index\",\n",
    "    \"/institutions/index\",\n",
    "    \"/course_duration_units/index\",\n",
    "    \"/deletion_reasons/index\",\n",
    "    \"/languages/index\",\n",
    "    \"/course_types/index\",\n",
    "    \"/course_parent_types/index\",\n",
    "    \"/disciplines/index\",\n",
    "    \"/tadirah_objects/index\",\n",
    "    \"/tadirah_techniques/index\"\n",
    "]\n",
    "OUTPUT_DIR = \"../data/\""
   ]
  },
  {
   "cell_type": "code",
   "execution_count": 25,
   "metadata": {},
   "outputs": [],
   "source": [
    "# Download the dumps following the API calls\n",
    "for api_call in API_CALLS:\n",
    "    r = requests.get(API_SERVER + api_call)\n",
    "    with open(OUTPUT_DIR+api_call.replace(\"/index\",\"\").replace(\"/\",\"\")+\".json\", 'w') as outfile:\n",
    "        json.dump(r.json(), outfile)"
   ]
  }
 ],
 "metadata": {
  "kernelspec": {
   "display_name": "Python 3",
   "language": "python",
   "name": "python3"
  },
  "language_info": {
   "codemirror_mode": {
    "name": "ipython",
    "version": 3
   },
   "file_extension": ".py",
   "mimetype": "text/x-python",
   "name": "python",
   "nbconvert_exporter": "python",
   "pygments_lexer": "ipython3",
   "version": "3.7.3"
  }
 },
 "nbformat": 4,
 "nbformat_minor": 2
}
