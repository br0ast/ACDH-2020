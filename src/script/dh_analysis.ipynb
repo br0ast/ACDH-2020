{
 "cells": [
  {
   "cell_type": "code",
   "execution_count": 47,
   "metadata": {},
   "outputs": [],
   "source": [
    "import requests\n",
    "import json\n",
    "import pandas as pd\n",
    "import os"
   ]
  },
  {
   "cell_type": "code",
   "execution_count": null,
   "metadata": {},
   "outputs": [],
   "source": [
    "#Crossref DH Journals elememts\n",
    "CR_ROOT = \"../data/crossref/\"\n",
    "CR_JOURNALS = {}\n",
    "\n",
    "from os import walk\n",
    "for r, d, f in os.walk(CR_ROOT):\n",
    "    for file in f:\n",
    "        if file.endswith(\".json\"):\n",
    "            with open(os.path.join(r, file)) as json_file:\n",
    "                CR_JOURNALS[file.replace(\".json\",\"\")] = json.load(json_file)"
   ]
  },
  {
   "cell_type": "code",
   "execution_count": 144,
   "metadata": {},
   "outputs": [],
   "source": [
    "## MICROSOFT ACADEMIC APROACH\n",
    "#https://www.microsoft.com/en-us/research/project/academic-knowledge/\n",
    "\n",
    "#AUTH\n",
    "USERNAME = \"acdh2020\"\n",
    "PKEY = \"6d1214a4c1f140eeab9606ab63671e83\"\n",
    "SKEY = \"a518ae1f71bd4811a7e9d25e621736e2\"\n",
    "\n",
    "#CALLS\n",
    "MAG_API_QUERY = \"https://api.labs.cognitive.microsoft.com/academic/v1.0/evaluate?expr=\"\n",
    "HEADERS = {\n",
    "    \"Host\": \"api.labs.cognitive.microsoft.com\",\n",
    "    \"Ocp-Apim-Subscription-Key\": PKEY\n",
    "}\n",
    "\n",
    "EXPR = {\n",
    "    \"title\":\"Ti='<VAR>'\",\n",
    "    \"doi\":\"DOI='<VAR>'\",\n",
    "    \"author\": \"Composite(AA.AuN='<VAR>')\"\n",
    "}\n",
    "RESULTS ={\n",
    "    \"author\": \"&attributes=AA.AuN,AA.AuId,AA.DAfN\",\n",
    "    \"affiliation\": \"&attributes=DOI,VFN,AA.DAfN,J.JN,F.FN\",\n",
    "    \"citation_context\": \"&attributes=CitCon\"\n",
    "}    \n",
    "\n",
    "# TESTING MAG: COMMENT\n",
    "#r = requests.get(MAG_API_QUERY + EXPR[\"doi\"].replace(\"<VAR>\",\"10.1007/s11192-019-03217-6\")+ RESULTS[\"citation_context\"], headers=HEADERS) \n",
    "#json.loads(r.text)"
   ]
  },
  {
   "cell_type": "code",
   "execution_count": 128,
   "metadata": {},
   "outputs": [],
   "source": [
    "MAG_RESULTS_JR = {}\n",
    "\n",
    "for jr in CR_JOURNALS:\n",
    "    MAG_RESULTS_JR[jr] = []\n",
    "    for item in CR_JOURNALS[jr][\"message\"][\"items\"]:\n",
    "        if \"DOI\" in item:\n",
    "            r = requests.get(\n",
    "                MAG_API_QUERY + EXPR[\"doi\"].replace(\"<VAR>\",item[\"DOI\"])+ RESULTS[\"affiliation\"], \n",
    "                headers=HEADERS) \n",
    "            r_json = json.loads(r.text)\n",
    "            if len(r_json[\"entities\"]) > 0: \n",
    "                MAG_RESULTS_JR[jr].append(r_json[\"entities\"][0])\n",
    "                break\n",
    "    break\n",
    "        "
   ]
  },
  {
   "cell_type": "code",
   "execution_count": null,
   "metadata": {},
   "outputs": [],
   "source": [
    "print(len(CR_JOURNALS['Digital Medievalist'][\"message\"][\"items\"]),\",on MAG:\",len(MAG_RESULTS_JR['Digital Medievalist']))"
   ]
  }
 ],
 "metadata": {
  "kernelspec": {
   "display_name": "Python 3",
   "language": "python",
   "name": "python3"
  },
  "language_info": {
   "codemirror_mode": {
    "name": "ipython",
    "version": 3
   },
   "file_extension": ".py",
   "mimetype": "text/x-python",
   "name": "python",
   "nbconvert_exporter": "python",
   "pygments_lexer": "ipython3",
   "version": "3.7.3"
  }
 },
 "nbformat": 4,
 "nbformat_minor": 2
}
